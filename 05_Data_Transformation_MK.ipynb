{
  "nbformat": 4,
  "nbformat_minor": 0,
  "metadata": {
    "colab": {
      "provenance": []
    },
    "kernelspec": {
      "name": "python3",
      "display_name": "Python 3"
    },
    "language_info": {
      "name": "python"
    }
  },
  "cells": [
    {
      "cell_type": "code",
      "execution_count": null,
      "metadata": {
        "colab": {
          "base_uri": "https://localhost:8080/",
          "height": 73
        },
        "id": "pyoXiJGqfpQ4",
        "outputId": "9a454e6a-5d29-4cae-b7a3-1229d6f81eb1"
      },
      "outputs": [
        {
          "output_type": "display_data",
          "data": {
            "text/plain": [
              "<IPython.core.display.HTML object>"
            ],
            "text/html": [
              "\n",
              "     <input type=\"file\" id=\"files-acbe5e25-cd5e-4702-a261-f1a8475780f0\" name=\"files[]\" multiple disabled\n",
              "        style=\"border:none\" />\n",
              "     <output id=\"result-acbe5e25-cd5e-4702-a261-f1a8475780f0\">\n",
              "      Upload widget is only available when the cell has been executed in the\n",
              "      current browser session. Please rerun this cell to enable.\n",
              "      </output>\n",
              "      <script>// Copyright 2017 Google LLC\n",
              "//\n",
              "// Licensed under the Apache License, Version 2.0 (the \"License\");\n",
              "// you may not use this file except in compliance with the License.\n",
              "// You may obtain a copy of the License at\n",
              "//\n",
              "//      http://www.apache.org/licenses/LICENSE-2.0\n",
              "//\n",
              "// Unless required by applicable law or agreed to in writing, software\n",
              "// distributed under the License is distributed on an \"AS IS\" BASIS,\n",
              "// WITHOUT WARRANTIES OR CONDITIONS OF ANY KIND, either express or implied.\n",
              "// See the License for the specific language governing permissions and\n",
              "// limitations under the License.\n",
              "\n",
              "/**\n",
              " * @fileoverview Helpers for google.colab Python module.\n",
              " */\n",
              "(function(scope) {\n",
              "function span(text, styleAttributes = {}) {\n",
              "  const element = document.createElement('span');\n",
              "  element.textContent = text;\n",
              "  for (const key of Object.keys(styleAttributes)) {\n",
              "    element.style[key] = styleAttributes[key];\n",
              "  }\n",
              "  return element;\n",
              "}\n",
              "\n",
              "// Max number of bytes which will be uploaded at a time.\n",
              "const MAX_PAYLOAD_SIZE = 100 * 1024;\n",
              "\n",
              "function _uploadFiles(inputId, outputId) {\n",
              "  const steps = uploadFilesStep(inputId, outputId);\n",
              "  const outputElement = document.getElementById(outputId);\n",
              "  // Cache steps on the outputElement to make it available for the next call\n",
              "  // to uploadFilesContinue from Python.\n",
              "  outputElement.steps = steps;\n",
              "\n",
              "  return _uploadFilesContinue(outputId);\n",
              "}\n",
              "\n",
              "// This is roughly an async generator (not supported in the browser yet),\n",
              "// where there are multiple asynchronous steps and the Python side is going\n",
              "// to poll for completion of each step.\n",
              "// This uses a Promise to block the python side on completion of each step,\n",
              "// then passes the result of the previous step as the input to the next step.\n",
              "function _uploadFilesContinue(outputId) {\n",
              "  const outputElement = document.getElementById(outputId);\n",
              "  const steps = outputElement.steps;\n",
              "\n",
              "  const next = steps.next(outputElement.lastPromiseValue);\n",
              "  return Promise.resolve(next.value.promise).then((value) => {\n",
              "    // Cache the last promise value to make it available to the next\n",
              "    // step of the generator.\n",
              "    outputElement.lastPromiseValue = value;\n",
              "    return next.value.response;\n",
              "  });\n",
              "}\n",
              "\n",
              "/**\n",
              " * Generator function which is called between each async step of the upload\n",
              " * process.\n",
              " * @param {string} inputId Element ID of the input file picker element.\n",
              " * @param {string} outputId Element ID of the output display.\n",
              " * @return {!Iterable<!Object>} Iterable of next steps.\n",
              " */\n",
              "function* uploadFilesStep(inputId, outputId) {\n",
              "  const inputElement = document.getElementById(inputId);\n",
              "  inputElement.disabled = false;\n",
              "\n",
              "  const outputElement = document.getElementById(outputId);\n",
              "  outputElement.innerHTML = '';\n",
              "\n",
              "  const pickedPromise = new Promise((resolve) => {\n",
              "    inputElement.addEventListener('change', (e) => {\n",
              "      resolve(e.target.files);\n",
              "    });\n",
              "  });\n",
              "\n",
              "  const cancel = document.createElement('button');\n",
              "  inputElement.parentElement.appendChild(cancel);\n",
              "  cancel.textContent = 'Cancel upload';\n",
              "  const cancelPromise = new Promise((resolve) => {\n",
              "    cancel.onclick = () => {\n",
              "      resolve(null);\n",
              "    };\n",
              "  });\n",
              "\n",
              "  // Wait for the user to pick the files.\n",
              "  const files = yield {\n",
              "    promise: Promise.race([pickedPromise, cancelPromise]),\n",
              "    response: {\n",
              "      action: 'starting',\n",
              "    }\n",
              "  };\n",
              "\n",
              "  cancel.remove();\n",
              "\n",
              "  // Disable the input element since further picks are not allowed.\n",
              "  inputElement.disabled = true;\n",
              "\n",
              "  if (!files) {\n",
              "    return {\n",
              "      response: {\n",
              "        action: 'complete',\n",
              "      }\n",
              "    };\n",
              "  }\n",
              "\n",
              "  for (const file of files) {\n",
              "    const li = document.createElement('li');\n",
              "    li.append(span(file.name, {fontWeight: 'bold'}));\n",
              "    li.append(span(\n",
              "        `(${file.type || 'n/a'}) - ${file.size} bytes, ` +\n",
              "        `last modified: ${\n",
              "            file.lastModifiedDate ? file.lastModifiedDate.toLocaleDateString() :\n",
              "                                    'n/a'} - `));\n",
              "    const percent = span('0% done');\n",
              "    li.appendChild(percent);\n",
              "\n",
              "    outputElement.appendChild(li);\n",
              "\n",
              "    const fileDataPromise = new Promise((resolve) => {\n",
              "      const reader = new FileReader();\n",
              "      reader.onload = (e) => {\n",
              "        resolve(e.target.result);\n",
              "      };\n",
              "      reader.readAsArrayBuffer(file);\n",
              "    });\n",
              "    // Wait for the data to be ready.\n",
              "    let fileData = yield {\n",
              "      promise: fileDataPromise,\n",
              "      response: {\n",
              "        action: 'continue',\n",
              "      }\n",
              "    };\n",
              "\n",
              "    // Use a chunked sending to avoid message size limits. See b/62115660.\n",
              "    let position = 0;\n",
              "    do {\n",
              "      const length = Math.min(fileData.byteLength - position, MAX_PAYLOAD_SIZE);\n",
              "      const chunk = new Uint8Array(fileData, position, length);\n",
              "      position += length;\n",
              "\n",
              "      const base64 = btoa(String.fromCharCode.apply(null, chunk));\n",
              "      yield {\n",
              "        response: {\n",
              "          action: 'append',\n",
              "          file: file.name,\n",
              "          data: base64,\n",
              "        },\n",
              "      };\n",
              "\n",
              "      let percentDone = fileData.byteLength === 0 ?\n",
              "          100 :\n",
              "          Math.round((position / fileData.byteLength) * 100);\n",
              "      percent.textContent = `${percentDone}% done`;\n",
              "\n",
              "    } while (position < fileData.byteLength);\n",
              "  }\n",
              "\n",
              "  // All done.\n",
              "  yield {\n",
              "    response: {\n",
              "      action: 'complete',\n",
              "    }\n",
              "  };\n",
              "}\n",
              "\n",
              "scope.google = scope.google || {};\n",
              "scope.google.colab = scope.google.colab || {};\n",
              "scope.google.colab._files = {\n",
              "  _uploadFiles,\n",
              "  _uploadFilesContinue,\n",
              "};\n",
              "})(self);\n",
              "</script> "
            ]
          },
          "metadata": {}
        },
        {
          "output_type": "stream",
          "name": "stdout",
          "text": [
            "Saving Trimet.csv to Trimet.csv\n"
          ]
        }
      ],
      "source": [
        "#Lets upload the data into google collab\n",
        "from google.colab import files\n",
        "uploaded = files.upload()"
      ]
    },
    {
      "cell_type": "code",
      "source": [
        "#import required Libraries\n",
        "import pandas as pd\n",
        "from datetime import datetime, timedelta\n"
      ],
      "metadata": {
        "id": "x1am-YgPfvBT"
      },
      "execution_count": null,
      "outputs": []
    },
    {
      "cell_type": "code",
      "source": [
        "data  = pd.read_csv('Trimet.csv')\n",
        "print(data.head(5))"
      ],
      "metadata": {
        "colab": {
          "base_uri": "https://localhost:8080/"
        },
        "id": "Y7OC2di0g2CH",
        "outputId": "d3b7b875-0146-46ac-ca33-7153d365f17d"
      },
      "execution_count": null,
      "outputs": [
        {
          "output_type": "stream",
          "name": "stdout",
          "text": [
            "   EVENT_NO_TRIP  EVENT_NO_STOP            OPD_DATE  VEHICLE_ID  METERS  \\\n",
            "0      259172515      259172517  15FEB2023:00:00:00        4223      40   \n",
            "1      259172515      259172517  15FEB2023:00:00:00        4223      48   \n",
            "2      259172515      259172517  15FEB2023:00:00:00        4223      57   \n",
            "3      259172515      259172517  15FEB2023:00:00:00        4223      73   \n",
            "4      259172515      259172517  15FEB2023:00:00:00        4223     112   \n",
            "\n",
            "   ACT_TIME  GPS_LONGITUDE  GPS_LATITUDE  GPS_SATELLITES  GPS_HDOP  \n",
            "0     20469    -122.648137     45.493082              12       0.7  \n",
            "1     20474    -122.648240     45.493070              12       0.8  \n",
            "2     20479    -122.648352     45.493123              12       0.8  \n",
            "3     20484    -122.648385     45.493262              12       0.7  \n",
            "4     20489    -122.648347     45.493582              12       0.8  \n"
          ]
        }
      ]
    },
    {
      "cell_type": "code",
      "source": [
        "#Lets drop unnecessary columns\n",
        "\n",
        "new_data = data.drop(columns=['EVENT_NO_STOP', 'GPS_SATELLITES', 'GPS_HDOP'])\n",
        "print(new_data.head())\n"
      ],
      "metadata": {
        "colab": {
          "base_uri": "https://localhost:8080/"
        },
        "id": "eryeLXwwhGAw",
        "outputId": "3d239f1f-863f-4eba-bf15-45e0b23930c0"
      },
      "execution_count": null,
      "outputs": [
        {
          "output_type": "stream",
          "name": "stdout",
          "text": [
            "   EVENT_NO_TRIP            OPD_DATE  VEHICLE_ID  METERS  ACT_TIME  \\\n",
            "0      259172515  15FEB2023:00:00:00        4223      40     20469   \n",
            "1      259172515  15FEB2023:00:00:00        4223      48     20474   \n",
            "2      259172515  15FEB2023:00:00:00        4223      57     20479   \n",
            "3      259172515  15FEB2023:00:00:00        4223      73     20484   \n",
            "4      259172515  15FEB2023:00:00:00        4223     112     20489   \n",
            "\n",
            "   GPS_LONGITUDE  GPS_LATITUDE  \n",
            "0    -122.648137     45.493082  \n",
            "1    -122.648240     45.493070  \n",
            "2    -122.648352     45.493123  \n",
            "3    -122.648385     45.493262  \n",
            "4    -122.648347     45.493582  \n"
          ]
        }
      ]
    },
    {
      "cell_type": "code",
      "source": [
        "#function to determine which columns to load\n",
        "def columns(cols):\n",
        "    columns = ['EVENT_NO_STOP', 'GPS_SATELLITES', 'GPS_HDOP']\n",
        "    return [col for col in cols if col not in columns]\n",
        "\n",
        "filtered_data = pd.read_csv('Trimet.csv', usecols=lambda column : column not in ['EVENT_NO_STOP', 'GPS_SATELLITES', 'GPS_HDOP'])\n",
        "\n",
        "print(filtered_data.head())"
      ],
      "metadata": {
        "colab": {
          "base_uri": "https://localhost:8080/"
        },
        "id": "KO762HEzhN2M",
        "outputId": "504fa00a-0950-4fdc-c27d-a56bf0d59acc"
      },
      "execution_count": null,
      "outputs": [
        {
          "output_type": "stream",
          "name": "stdout",
          "text": [
            "   EVENT_NO_TRIP            OPD_DATE  VEHICLE_ID  METERS  ACT_TIME  \\\n",
            "0      259172515  15FEB2023:00:00:00        4223      40     20469   \n",
            "1      259172515  15FEB2023:00:00:00        4223      48     20474   \n",
            "2      259172515  15FEB2023:00:00:00        4223      57     20479   \n",
            "3      259172515  15FEB2023:00:00:00        4223      73     20484   \n",
            "4      259172515  15FEB2023:00:00:00        4223     112     20489   \n",
            "\n",
            "   GPS_LONGITUDE  GPS_LATITUDE  \n",
            "0    -122.648137     45.493082  \n",
            "1    -122.648240     45.493070  \n",
            "2    -122.648352     45.493123  \n",
            "3    -122.648385     45.493262  \n",
            "4    -122.648347     45.493582  \n"
          ]
        }
      ]
    },
    {
      "cell_type": "code",
      "source": [
        "\n",
        "#Creating a single timestamp\n",
        "\n",
        "def timestamp(row):\n",
        "\n",
        "    opd_date = datetime.strptime(row['OPD_DATE'], '%d%b%Y:%H:%M:%S')\n",
        "\n",
        "    act_time = timedelta(seconds=int(row['ACT_TIME']))\n",
        "\n",
        "    return opd_date + act_time\n",
        "\n",
        "# Apply the function to each row to create the new TIMESTAMP column in our data\n",
        "\n",
        "data['TIMESTAMP'] = data.apply(timestamp, axis=1)\n",
        "\n",
        "print(data['TIMESTAMP'].head(5))"
      ],
      "metadata": {
        "colab": {
          "base_uri": "https://localhost:8080/"
        },
        "id": "x4B0-NxdiB4f",
        "outputId": "5d2a3f06-b4b4-4cd3-e8a9-2a8451bdae2d"
      },
      "execution_count": null,
      "outputs": [
        {
          "output_type": "stream",
          "name": "stdout",
          "text": [
            "0   2023-02-15 05:41:09\n",
            "1   2023-02-15 05:41:14\n",
            "2   2023-02-15 05:41:19\n",
            "3   2023-02-15 05:41:24\n",
            "4   2023-02-15 05:41:29\n",
            "Name: TIMESTAMP, dtype: datetime64[ns]\n"
          ]
        }
      ]
    },
    {
      "cell_type": "code",
      "source": [
        "#Dropped the unnecessary columns\n",
        "data = data.drop(columns=['OPD_DATE', 'ACT_TIME'])"
      ],
      "metadata": {
        "id": "8JZznJkZiJvF"
      },
      "execution_count": null,
      "outputs": []
    },
    {
      "cell_type": "code",
      "source": [
        "# Calculating the differences in METERS and TIMESTAMP\n",
        "\n",
        "def calculate_speed(data):\n",
        "  data['temp_METERS'] = data['METERS'].diff()\n",
        "  data['temp_TIMESTAMP'] = data['TIMESTAMP'].diff().dt.total_seconds()\n",
        "  data['SPEED'] = data['temp_METERS'] / data[data['temp_TIMESTAMP'] != 0]['temp_TIMESTAMP']\n",
        "  return data.drop(columns=['temp_METERS', 'temp_TIMESTAMP'])\n",
        "\n",
        "data = calculate_speed(data.copy())\n",
        "\n",
        "# Speed Insights\n",
        "print(data['SPEED'].describe())"
      ],
      "metadata": {
        "colab": {
          "base_uri": "https://localhost:8080/"
        },
        "id": "K9PVOYhLimyK",
        "outputId": "a3cbf0dd-d329-4d09-e5bb-f7072896bf6e"
      },
      "execution_count": 18,
      "outputs": [
        {
          "output_type": "stream",
          "name": "stdout",
          "text": [
            "count    160.000000\n",
            "mean       7.227206\n",
            "std        4.420604\n",
            "min        0.000000\n",
            "25%        3.800000\n",
            "50%        6.400000\n",
            "75%       10.850000\n",
            "max       17.400000\n",
            "Name: SPEED, dtype: float64\n"
          ]
        }
      ]
    },
    {
      "cell_type": "code",
      "source": [],
      "metadata": {
        "id": "8FJ-nHNgi9nX"
      },
      "execution_count": null,
      "outputs": []
    }
  ]
}